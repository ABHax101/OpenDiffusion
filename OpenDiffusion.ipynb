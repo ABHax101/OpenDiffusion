{
 "cells": [
  {
   "cell_type": "markdown",
   "id": "03f046ab-f879-48a3-a2a5-d68deab0fc00",
   "metadata": {},
   "source": [
    "Run the next 3 cells for setup"
   ]
  },
  {
   "cell_type": "code",
   "execution_count": null,
   "id": "31c20965-3f4e-4cb8-839d-f0f18108da22",
   "metadata": {},
   "outputs": [],
   "source": [
    "!nvidia-smi"
   ]
  },
  {
   "cell_type": "code",
   "execution_count": null,
   "id": "38ad0cb8-c40a-49f2-aa58-aa67bee6b419",
   "metadata": {},
   "outputs": [],
   "source": [
    "!pip install diffusers transformers scipy ftfy accelerate torch"
   ]
  },
  {
   "cell_type": "code",
   "execution_count": null,
   "id": "86be655b-8a89-4efa-8357-7305dc50c9f6",
   "metadata": {},
   "outputs": [],
   "source": [
    "import torch\n",
    "import transformers\n",
    "from diffusers import StableDiffusionPipeline\n",
    "pipe = StableDiffusionPipeline.from_pretrained(\"prompthero/openjourney\", torch_dtype=torch.float16)\n",
    "pipe = pipe.to(\"cuda\")\n",
    "token = 102"
   ]
  },
  {
   "cell_type": "markdown",
   "id": "85997583-e478-4512-a845-82375ecc3681",
   "metadata": {},
   "source": [
    "change the prompt to whatever you'd like and run the cell to generate image."
   ]
  },
  {
   "cell_type": "code",
   "execution_count": null,
   "id": "9da5dec1-48af-444e-a841-e24c709b05f8",
   "metadata": {},
   "outputs": [],
   "source": [
    "prompt = 'mdjrny-v4 style, parity, unreal engine, hyper realistic, wallpaper, rectangular, steampunk'\n",
    "image = pipe(prompt).images[0]\n",
    "image.save(\"./sample.png\")\n",
    "image"
   ]
  }
 ],
 "metadata": {
  "kernelspec": {
   "display_name": "Python 3 (ipykernel)",
   "language": "python",
   "name": "python3"
  },
  "language_info": {
   "codemirror_mode": {
    "name": "ipython",
    "version": 3
   },
   "file_extension": ".py",
   "mimetype": "text/x-python",
   "name": "python",
   "nbconvert_exporter": "python",
   "pygments_lexer": "ipython3",
   "version": "3.9.13"
  }
 },
 "nbformat": 4,
 "nbformat_minor": 5
}
